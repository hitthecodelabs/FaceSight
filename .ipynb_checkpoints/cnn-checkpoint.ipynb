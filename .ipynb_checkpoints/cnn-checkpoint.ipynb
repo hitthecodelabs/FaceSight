{
 "cells": [
  {
   "cell_type": "code",
   "execution_count": 5,
   "id": "66270d05-0b99-4b76-a35a-8ea6f9d05a14",
   "metadata": {},
   "outputs": [],
   "source": [
    "import os\n",
    "import cv2\n",
    "import numpy as np\n",
    "import pandas as pd\n",
    "from PIL import Image\n",
    "from glob import glob\n",
    "from PIL import ImageFile\n",
    "import matplotlib.pyplot as plt"
   ]
  },
  {
   "cell_type": "code",
   "execution_count": 6,
   "id": "15303ecc-1532-4318-82d4-99f60fe2df54",
   "metadata": {},
   "outputs": [],
   "source": [
    "import keras\n",
    "import tensorflow as tf\n",
    "\n",
    "from tensorflow.keras import datasets, layers\n",
    "from tensorflow.keras.preprocessing.image import ImageDataGenerator\n",
    "from tensorflow.keras.preprocessing.image import load_img, img_to_array\n",
    "from sklearn.metrics import confusion_matrix, classification_report"
   ]
  },
  {
   "cell_type": "code",
   "execution_count": 3,
   "id": "b190fa7c-9946-44a4-9120-b42ed2712b0d",
   "metadata": {},
   "outputs": [],
   "source": [
    "# Define el modelo CNN\n",
    "def cnn_model(dim1, dim2):\n",
    "    model = tf.keras.models.Sequential()  # Crea un modelo secuencial\n",
    "\n",
    "    model.add(tf.keras.layers.Conv2D(32, (3, 3), activation='relu', input_shape=(dim1, dim2, 3)))  #Capa de convolución 32 filtros\n",
    "    model.add(tf.keras.layers.MaxPooling2D((2, 2)))  #Capa de max pooling 2x2\n",
    "    \n",
    "    model.add(tf.keras.layers.Conv2D(64, (3, 3), activation='relu'))  #Capa de convolución 64 filtros\n",
    "    model.add(tf.keras.layers.MaxPooling2D((2, 2)))  #Capa de max pooling 2x2\n",
    "    model.add(tf.keras.layers.Dropout(0.25)) # Reduce el riesgo de sobreajuste descartando un 25% de neuronas aleatoriamente\n",
    "    \n",
    "    model.add(tf.keras.layers.Flatten())  #Aplana los mapas de características\n",
    "\n",
    "    model.add(tf.keras.layers.Dense(32, activation='relu'))  #Capa densa con 64 unidades\n",
    "    model.add(tf.keras.layers.Dense(5, activation='softmax'))  #Capa de salida con 8 clases\n",
    "\n",
    "    return model"
   ]
  },
  {
   "cell_type": "code",
   "execution_count": 4,
   "id": "1a114c5b-9290-4a99-9737-2b3fcaf82055",
   "metadata": {},
   "outputs": [],
   "source": [
    "ImageFile.LOAD_TRUNCATED_IMAGES = True"
   ]
  },
  {
   "cell_type": "code",
   "execution_count": 37,
   "id": "5055684f-d8d1-4497-b9f7-fa784abacc98",
   "metadata": {},
   "outputs": [],
   "source": [
    "# Ruta al directorio que contiene las imágenes de entrenamiento y prueba\n",
    "train_dir = 'training_set'\n",
    "\n",
    "test_dir = 'testing_set'\n",
    "\n",
    "# Carga y preprocesa las imágenes usando ImageDataGenerator\n",
    "train_generator = ImageDataGenerator(\n",
    "    rescale=1./255,          # Reescala los valores de los píxeles a [0, 1]\n",
    "    rotation_range=40,       # Rotar la imagen en un rango de 0-40 grados\n",
    "    width_shift_range=0.2,   # Desplazar la imagen horizontalmente\n",
    "    height_shift_range=0.2,  # Desplazar la imagen verticalmente\n",
    "    shear_range=0.2,         # Aplicar un corte en la imagen\n",
    "    zoom_range=0.2,          # Aplicar zoom a la imagen\n",
    "    horizontal_flip=True,    # Voltear la imagen horizontalmente\n",
    "    fill_mode ='nearest'     # Cómo rellenar los píxeles que podrían quedar fuera de los límites de la imagen después de aplicar transformaciones\n",
    ")\n",
    "\n",
    "# Test generator\n",
    "test_generator = ImageDataGenerator(rescale=1./255)\n",
    "\n",
    "# Tamaño del lote (batch_size)\n",
    "batch_size = 32\n",
    "\n",
    "# Tamaño de las imágenes objetivo (target_size)\n",
    "target_size = (120, 100)\n",
    "\n",
    "# Modo de clasificación (class_mode)\n",
    "class_mode = 'categorical'  # Para problemas de clasificación multiclase"
   ]
  },
  {
   "cell_type": "code",
   "execution_count": 38,
   "id": "862263ec-03a5-42f1-b275-82afd893ee3c",
   "metadata": {},
   "outputs": [
    {
     "name": "stdout",
     "output_type": "stream",
     "text": [
      "Found 4000 images belonging to 5 classes.\n"
     ]
    }
   ],
   "source": [
    "# Crear el generador de datos para entrenamiento\n",
    "train_data = train_generator.flow_from_directory(\n",
    "    train_dir,\n",
    "    target_size = target_size,\n",
    "    batch_size = batch_size,\n",
    "    class_mode = class_mode\n",
    ")"
   ]
  },
  {
   "cell_type": "code",
   "execution_count": 39,
   "id": "eb25677e-93e1-450a-845a-043c5e5e47f7",
   "metadata": {},
   "outputs": [
    {
     "name": "stdout",
     "output_type": "stream",
     "text": [
      "Found 1000 images belonging to 5 classes.\n"
     ]
    }
   ],
   "source": [
    "# Datos para prueba\n",
    "test_data = test_generator.flow_from_directory(\n",
    "    test_dir,\n",
    "    target_size = target_size,\n",
    "    batch_size = batch_size,\n",
    "    class_mode = class_mode\n",
    ")"
   ]
  },
  {
   "cell_type": "code",
   "execution_count": 46,
   "id": "3eb8bced-a9dd-49bf-9952-150646de6062",
   "metadata": {},
   "outputs": [],
   "source": [
    "#Limpiar el cache\n",
    "keras.backend.clear_session()"
   ]
  },
  {
   "cell_type": "code",
   "execution_count": 47,
   "id": "11acaae3-ba97-4161-b43e-3cc72c3040e0",
   "metadata": {},
   "outputs": [
    {
     "name": "stdout",
     "output_type": "stream",
     "text": [
      "Model: \"sequential\"\n",
      "_________________________________________________________________\n",
      " Layer (type)                Output Shape              Param #   \n",
      "=================================================================\n",
      " conv2d (Conv2D)             (None, 118, 98, 32)       896       \n",
      "                                                                 \n",
      " max_pooling2d (MaxPooling2  (None, 59, 49, 32)        0         \n",
      " D)                                                              \n",
      "                                                                 \n",
      " conv2d_1 (Conv2D)           (None, 57, 47, 64)        18496     \n",
      "                                                                 \n",
      " max_pooling2d_1 (MaxPoolin  (None, 28, 23, 64)        0         \n",
      " g2D)                                                            \n",
      "                                                                 \n",
      " dropout (Dropout)           (None, 28, 23, 64)        0         \n",
      "                                                                 \n",
      " flatten (Flatten)           (None, 41216)             0         \n",
      "                                                                 \n",
      " dense (Dense)               (None, 32)                1318944   \n",
      "                                                                 \n",
      " dense_1 (Dense)             (None, 5)                 165       \n",
      "                                                                 \n",
      "=================================================================\n",
      "Total params: 1338501 (5.11 MB)\n",
      "Trainable params: 1338501 (5.11 MB)\n",
      "Non-trainable params: 0 (0.00 Byte)\n",
      "_________________________________________________________________\n"
     ]
    }
   ],
   "source": [
    "# Crea una instancia del modelo CNN\n",
    "model = cnn_model(120,100)\n",
    "model.summary()"
   ]
  },
  {
   "cell_type": "code",
   "execution_count": 48,
   "id": "a8a792a0-a759-4a94-b3c9-b883f8eb0a99",
   "metadata": {},
   "outputs": [],
   "source": [
    "optimizer = keras.optimizers.Adam(learning_rate=0.001) # Selecciona el optimizador Adam con tasa de aprendizaje de 0.001\n",
    "# Compila el modelo\n",
    "model.compile(optimizer= optimizer,\n",
    "              loss='categorical_crossentropy',\n",
    "              metrics=['accuracy'])"
   ]
  },
  {
   "cell_type": "code",
   "execution_count": 49,
   "id": "d309492a-3bce-42aa-a88c-da43bfe6e602",
   "metadata": {},
   "outputs": [
    {
     "name": "stdout",
     "output_type": "stream",
     "text": [
      "Epoch 1/20\n",
      "125/125 [==============================] - 85s 666ms/step - loss: 1.6520 - accuracy: 0.2042 - val_loss: 1.6092 - val_accuracy: 0.2230\n",
      "Epoch 2/20\n",
      "125/125 [==============================] - 84s 673ms/step - loss: 1.6090 - accuracy: 0.2190 - val_loss: 1.6093 - val_accuracy: 0.1910\n",
      "Epoch 3/20\n",
      "125/125 [==============================] - 76s 611ms/step - loss: 1.6084 - accuracy: 0.2173 - val_loss: 1.6037 - val_accuracy: 0.2500\n",
      "Epoch 4/20\n",
      "125/125 [==============================] - 77s 612ms/step - loss: 1.6061 - accuracy: 0.2288 - val_loss: 1.6064 - val_accuracy: 0.2440\n",
      "Epoch 5/20\n",
      "125/125 [==============================] - 78s 626ms/step - loss: 1.6062 - accuracy: 0.2222 - val_loss: 1.6058 - val_accuracy: 0.2280\n",
      "Epoch 6/20\n",
      "125/125 [==============================] - 85s 681ms/step - loss: 1.6007 - accuracy: 0.2362 - val_loss: 1.6073 - val_accuracy: 0.2170\n",
      "Epoch 7/20\n",
      "125/125 [==============================] - 78s 627ms/step - loss: 1.5974 - accuracy: 0.2482 - val_loss: 1.5942 - val_accuracy: 0.2580\n",
      "Epoch 8/20\n",
      "125/125 [==============================] - 78s 623ms/step - loss: 1.5955 - accuracy: 0.2475 - val_loss: 1.5854 - val_accuracy: 0.2890\n",
      "Epoch 9/20\n",
      "125/125 [==============================] - 79s 630ms/step - loss: 1.5954 - accuracy: 0.2530 - val_loss: 1.5842 - val_accuracy: 0.2770\n",
      "Epoch 10/20\n",
      "125/125 [==============================] - 79s 634ms/step - loss: 1.5908 - accuracy: 0.2488 - val_loss: 1.5846 - val_accuracy: 0.2610\n",
      "Epoch 11/20\n",
      "125/125 [==============================] - 79s 633ms/step - loss: 1.5855 - accuracy: 0.2525 - val_loss: 1.5806 - val_accuracy: 0.2850\n",
      "Epoch 12/20\n",
      "125/125 [==============================] - 79s 629ms/step - loss: 1.5862 - accuracy: 0.2573 - val_loss: 1.5809 - val_accuracy: 0.2670\n",
      "Epoch 13/20\n",
      "125/125 [==============================] - 81s 650ms/step - loss: 1.5861 - accuracy: 0.2710 - val_loss: 1.5700 - val_accuracy: 0.2720\n",
      "Epoch 14/20\n",
      "125/125 [==============================] - 80s 638ms/step - loss: 1.5743 - accuracy: 0.2825 - val_loss: 1.5780 - val_accuracy: 0.2710\n",
      "Epoch 15/20\n",
      "125/125 [==============================] - 83s 662ms/step - loss: 1.5778 - accuracy: 0.2800 - val_loss: 1.5746 - val_accuracy: 0.2820\n",
      "Epoch 16/20\n",
      "125/125 [==============================] - 88s 704ms/step - loss: 1.5773 - accuracy: 0.2815 - val_loss: 1.5658 - val_accuracy: 0.2920\n",
      "Epoch 17/20\n",
      "125/125 [==============================] - 89s 715ms/step - loss: 1.5709 - accuracy: 0.2815 - val_loss: 1.5643 - val_accuracy: 0.2770\n",
      "Epoch 18/20\n",
      "125/125 [==============================] - 90s 717ms/step - loss: 1.5658 - accuracy: 0.2862 - val_loss: 1.5801 - val_accuracy: 0.2830\n",
      "Epoch 19/20\n",
      "125/125 [==============================] - 89s 713ms/step - loss: 1.5576 - accuracy: 0.3047 - val_loss: 1.5524 - val_accuracy: 0.3050\n",
      "Epoch 20/20\n",
      "125/125 [==============================] - 91s 730ms/step - loss: 1.5538 - accuracy: 0.3020 - val_loss: 1.5675 - val_accuracy: 0.2900\n"
     ]
    },
    {
     "data": {
      "text/plain": [
       "<keras.src.callbacks.History at 0x2213baa7640>"
      ]
     },
     "execution_count": 49,
     "metadata": {},
     "output_type": "execute_result"
    }
   ],
   "source": [
    "# Entrena el modelo\n",
    "model.fit(train_data, \n",
    "          epochs=20, \n",
    "          validation_data = test_data \n",
    "          )"
   ]
  },
  {
   "cell_type": "markdown",
   "id": "43bea101-332a-44e0-9a70-377c6d928e6b",
   "metadata": {},
   "source": [
    "#### Conclusions\n",
    "This model concludes with an accuracy of the set used in training to validate performance (val_accuracy) at 29%, very close to the accuracy of the training set itself (accuracy). In addition, the values of the loss function of the training set (loss), and the validation set (val_loss), are also very close to each other.\n",
    "\n",
    "Also, during the training, a similar behavior can be observed between the validation and training values: if the loss variable increases, the val_loss variable also tends to increase, as do their respective accuracies. Furthermore, at some point in the training, these values tend to converge.\n",
    "\n",
    "This is an indicator that the model is stable and there is no presence of overfitting, which means that the model is creative enough to generalize its predictions from the dataset used for training."
   ]
  },
  {
   "cell_type": "code",
   "execution_count": 50,
   "id": "f859a0a1-66ef-4320-9fa0-b35b6275c93d",
   "metadata": {},
   "outputs": [],
   "source": [
    "model.save('model.h5')"
   ]
  },
  {
   "cell_type": "code",
   "execution_count": 7,
   "id": "e5dc43bb-e59c-48a5-8aa3-ec632d975e86",
   "metadata": {},
   "outputs": [
    {
     "data": {
      "text/plain": [
       "15.72925"
      ]
     },
     "execution_count": 7,
     "metadata": {},
     "output_type": "execute_result"
    }
   ],
   "source": [
    "os.path.getsize('model.h5')/1.024e6 #Ver el peso del archivo model en MB"
   ]
  },
  {
   "cell_type": "code",
   "execution_count": 51,
   "id": "86e16a63-9fc7-433b-8e9e-68719f893779",
   "metadata": {},
   "outputs": [
    {
     "name": "stdout",
     "output_type": "stream",
     "text": [
      "32/32 [==============================] - 11s 348ms/step - loss: 1.5675 - accuracy: 0.2900\n",
      "Test accuracy: 0.28999999165534973\n"
     ]
    }
   ],
   "source": [
    "# Evalúa el modelo\n",
    "test_loss, test_acc = model.evaluate(test_data)\n",
    "print('Test accuracy:', test_acc)"
   ]
  },
  {
   "cell_type": "code",
   "execution_count": 52,
   "id": "d6811a8c-f84c-4f9f-b188-18487d9a17f1",
   "metadata": {},
   "outputs": [
    {
     "name": "stdout",
     "output_type": "stream",
     "text": [
      "32/32 [==============================] - 11s 323ms/step\n"
     ]
    }
   ],
   "source": [
    "# Realiza predicciones en el conjunto de prueba\n",
    "predictions = model.predict(test_data)\n",
    "y_pred = np.argmax(predictions, axis=1)\n",
    "true_labels = test_data.classes"
   ]
  },
  {
   "cell_type": "code",
   "execution_count": 53,
   "id": "63a882d1-9e20-4ac0-955f-a53d260e07ee",
   "metadata": {},
   "outputs": [
    {
     "data": {
      "text/plain": [
       "array([[72, 67, 15, 17, 29],\n",
       "       [79, 55, 15, 22, 29],\n",
       "       [79, 53, 18, 20, 30],\n",
       "       [84, 47, 17, 17, 35],\n",
       "       [80, 59, 14, 17, 30]], dtype=int64)"
      ]
     },
     "execution_count": 53,
     "metadata": {},
     "output_type": "execute_result"
    }
   ],
   "source": [
    "# Calcula la matriz de confusión\n",
    "confusion_mtx = confusion_matrix(true_labels, y_pred)\n",
    "confusion_mtx"
   ]
  },
  {
   "cell_type": "code",
   "execution_count": 54,
   "id": "ba5bf118-9aa1-4695-9f3e-8c7e59422f25",
   "metadata": {},
   "outputs": [
    {
     "data": {
      "image/png": "[encoded data removed]",
      "text/plain": [
       "<Figure size 640x480 with 2 Axes>"
      ]
     },
     "metadata": {},
     "output_type": "display_data"
    }
   ],
   "source": [
    "# Grafica la matriz de confusión\n",
    "plt.imshow(confusion_mtx, interpolation='nearest', cmap=plt.cm.Blues)\n",
    "plt.title('Confusion Matrix')\n",
    "plt.colorbar()\n",
    "tick_marks = np.arange(len(test_data.class_indices))\n",
    "plt.xticks(tick_marks, test_data.class_indices, rotation=45)\n",
    "plt.yticks(tick_marks, test_data.class_indices)\n",
    "plt.xlabel('Predicted Label')\n",
    "plt.ylabel('True Label')\n",
    "plt.show()"
   ]
  },
  {
   "cell_type": "markdown",
   "id": "12d7079e-3be1-469b-a7be-9ab4567186bc",
   "metadata": {},
   "source": [
    "### Prueba del modelo"
   ]
  },
  {
   "cell_type": "code",
   "execution_count": 48,
   "id": "e8f684f2-c5f5-488c-adff-1e517c527ee4",
   "metadata": {},
   "outputs": [],
   "source": [
    "# Carga y preprocesa la imagen\n",
    "imagen = load_img('img1p.jpg', target_size=(32, 32))\n",
    "imagen_array = img_to_array(imagen)\n",
    "imagen_array = np.expand_dims(imagen_array, axis=0)\n",
    "imagen_array = imagen_array / 255.0"
   ]
  },
  {
   "cell_type": "code",
   "execution_count": 49,
   "id": "3334484a-3f56-47b2-9811-b7f095024b20",
   "metadata": {},
   "outputs": [
    {
     "data": {
      "text/plain": [
       "(1, 32, 32, 3)"
      ]
     },
     "execution_count": 49,
     "metadata": {},
     "output_type": "execute_result"
    }
   ],
   "source": [
    "imagen_array.shape"
   ]
  },
  {
   "cell_type": "code",
   "execution_count": 51,
   "id": "107539ce-a65b-40fc-b175-6c7b736a2c44",
   "metadata": {},
   "outputs": [
    {
     "name": "stdout",
     "output_type": "stream",
     "text": [
      "1/1 [==============================] - 0s 54ms/step\n"
     ]
    },
    {
     "data": {
      "text/plain": [
       "1"
      ]
     },
     "execution_count": 51,
     "metadata": {},
     "output_type": "execute_result"
    }
   ],
   "source": [
    "# Realiza la predicción\n",
    "predicciones = model.predict(imagen_array)\n",
    "clase_predicha = np.argmax(predicciones[0])\n",
    "clase_predicha"
   ]
  },
  {
   "cell_type": "code",
   "execution_count": 53,
   "id": "86957761-1381-4844-acf7-e8646f1aa7f9",
   "metadata": {},
   "outputs": [
    {
     "data": {
      "text/plain": [
       "['Heart', 'Oblong', 'Oval', 'Round', 'Square']"
      ]
     },
     "execution_count": 53,
     "metadata": {},
     "output_type": "execute_result"
    }
   ],
   "source": [
    "# Obtiene las etiquetas de clase\n",
    "etiquetas_clase = list(train_data.class_indices.keys())\n",
    "etiquetas_clase"
   ]
  },
  {
   "cell_type": "code",
   "execution_count": 54,
   "id": "1e83d1ac-7068-45ef-a02c-10f35dec0e96",
   "metadata": {},
   "outputs": [
    {
     "name": "stdout",
     "output_type": "stream",
     "text": [
      "Clase predicha: Oblong\n"
     ]
    }
   ],
   "source": [
    "# Imprime la clase predicha\n",
    "clase_predicha_etiqueta = etiquetas_clase[clase_predicha]\n",
    "print('Clase predicha:', clase_predicha_etiqueta)"
   ]
  },
  {
   "cell_type": "code",
   "execution_count": null,
   "id": "193f663f-5617-4b57-aec9-c17b469ce335",
   "metadata": {},
   "outputs": [],
   "source": []
  }
 ],
 "metadata": {
  "kernelspec": {
   "display_name": "Python 3 (ipykernel)",
   "language": "python",
   "name": "python3"
  },
  "language_info": {
   "codemirror_mode": {
    "name": "ipython",
    "version": 3
   },
   "file_extension": ".py",
   "mimetype": "text/x-python",
   "name": "python",
   "nbconvert_exporter": "python",
   "pygments_lexer": "ipython3",
   "version": "3.11.3"
  }
 },
 "nbformat": 4,
 "nbformat_minor": 5
}
