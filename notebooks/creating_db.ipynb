{
 "cells": [
  {
   "cell_type": "code",
   "execution_count": 2,
   "id": "cc963bf1-4f27-4f71-b29a-0307a0e0b81b",
   "metadata": {
    "tags": []
   },
   "outputs": [],
   "source": [
    "import sqlite3\n",
    "\n",
    "# Function to create and populate the database with recommendations\n",
    "def create_database(filename=\"recommendations.db\"):\n",
    "    # Establishing a connection and getting a cursor\n",
    "    conn = sqlite3.connect(filename)\n",
    "    cursor = conn.cursor()\n",
    "\n",
    "    # Creating tables and inserting data\n",
    "    # 1. Recommendations based on Age\n",
    "    cursor.execute('''CREATE TABLE edad_recomendaciones\n",
    "                      (rango TEXT PRIMARY KEY, recomendacion TEXT, link TEXT)''')\n",
    "    \n",
    "    edad_data = [\n",
    "        (\"menores de 18\", \"Prefiere productos ligeros y naturales. Evita bases pesadas y opta por bálsamos labiales o gloss.\", \n",
    "         \"https://www.youtube.com/embed/eZH4x6JkuiY\"),\n",
    "        \n",
    "        (\"18-25\", \"Puedes experimentar con colores y estilos variados. Las sombras brillantes y los delineados atrevidos son una buena opción.\", \n",
    "         \"https://www.youtube.com/embed/gq4K9QtYXI4\"),\n",
    "        \n",
    "        (\"26-35\", \"Prefiere bases hidratantes y utiliza corrector para iluminar las áreas de ojeras. Los tonos nudes son ideales para el día a día.\", \n",
    "         \"https://www.youtube.com/embed/PzOWsk7Yfmo\"),\n",
    "        \n",
    "        (\"36-45\", \"El uso de primer y bases que combatan las líneas de expresión es recomendable. Opta por colores que den luminosidad a tu rostro.\",\n",
    "         \"https://www.youtube.com/embed/wPBe0tZhqoA\"),\n",
    "        \n",
    "        (\"46-55\", \"El maquillaje mineral y las bases hidratantes serán tus aliados. Considera tonos más naturales y un buen rubor para aportar juventud.\",\n",
    "         \"https://www.youtube.com/embed/7R7Hbuwbu94\"),\n",
    "        \n",
    "        (\"mayores de 55\", \"Prefiere productos que aporten hidratación y evita polvos que puedan resecar. Los tonos tierra son ideales.\",\n",
    "         \"https://www.youtube.com/embed/VhP0yUwB8cc\"),\n",
    "    ]\n",
    "    \n",
    "    cursor.executemany('INSERT INTO edad_recomendaciones VALUES (?, ?, ?)', edad_data)\n",
    "\n",
    "    # 2. Recommendations based on Skin Tone\n",
    "    cursor.execute('''CREATE TABLE tono_recomendaciones\n",
    "                      (tono TEXT PRIMARY KEY, recomendacion TEXT)''')\n",
    "    tono_data = [\n",
    "        (\"Muy claro / pálido\", \"Los tonos rosas y duraznos para labios y mejillas te sentarán muy bien. Evita tonos muy oscuros.\"),\n",
    "        (\"Claro / caucásico\", \"Los tonos berries y rojos son ideales para labios. Las sombras en tonos dorados resaltan tus ojos.\"),\n",
    "        (\"Claro-medio / moreno claro\", \"Tonos corales y terracotas son tus aliados. Experimenta con sombras bronce.\"),\n",
    "        (\"Medio / moreno\", \"Los tonos dorados y bronces acentuarán tu belleza. Los labiales en tono vino son ideales.\"),\n",
    "        (\"Medio-oscuro / moreno oscuro\", \"Opta por tonos cobrizos y chocolates. Los iluminadores dorados resaltarán tu rostro.\"),\n",
    "        (\"Oscuro\", \"Los tonos berenjena y oscuros te sentarán de maravilla. Ilumina con tonos champagne.\"),\n",
    "    ]\n",
    "    cursor.executemany('INSERT INTO tono_recomendaciones VALUES (?, ?)', tono_data)\n",
    "\n",
    "    # 3. Recommendations based on Face Shape\n",
    "    cursor.execute('''CREATE TABLE forma_cara_recomendaciones\n",
    "                      (forma TEXT PRIMARY KEY, recomendacion TEXT)''')\n",
    "    forma_data = [\n",
    "        (\"OVALADA\", \"Aplica contorno bajo tus pómulos y ilumina la frente, nariz, mentón y ojeras. Finalmente, aplica rubor en pómulos y arco de cupido.\"),\n",
    "        (\"ALARGADA\", \"Aplica contorno en la frente, pómulos y mandíbula. Usa bronceador en la parte superior de la frente y difumina bien. Ilumina frente, nariz, mentón, cejas y ojeras.\"),\n",
    "        (\"CORAZON\", \"Contornea las esquinas de la frente, pómulos y mandíbula. Ilumina la frente, nariz, mentón y ojeras. Finalmente, aplica rubor en pómulos, arco de cupido y nariz.\"),\n",
    "        (\"REDONDA\", \"Aplica contorno en la sien y cachetes. Ilumina la frente, nariz, mentón y ojeras. Finaliza con rubor en pómulos, arco de cupido y nariz.\"),\n",
    "        (\"CUADRADA\", \"Contornea la frente, pómulos y mandíbula. Ilumina la frente, nariz, mentón y ojeras. Termina con rubor en pómulos, arco de cupido y nariz.\")\n",
    "    ]\n",
    "    cursor.executemany('INSERT INTO forma_cara_recomendaciones VALUES (?, ?)', forma_data)\n",
    "\n",
    "    # Committing changes and closing the connection\n",
    "    conn.commit()\n",
    "    conn.close()"
   ]
  },
  {
   "cell_type": "code",
   "execution_count": 3,
   "id": "ba41f653-5de5-4754-9c85-422472858872",
   "metadata": {
    "tags": []
   },
   "outputs": [],
   "source": [
    "create_database()"
   ]
  },
  {
   "cell_type": "code",
   "execution_count": null,
   "id": "75b78817-90fe-4098-87f3-4d4189ecf786",
   "metadata": {},
   "outputs": [],
   "source": []
  },
  {
   "cell_type": "code",
   "execution_count": null,
   "id": "35fcfa10-8a72-4802-9257-dafec44710c6",
   "metadata": {},
   "outputs": [],
   "source": [
    "# Recomendaciones basadas en la edad\n",
    "    recomendaciones_edad = {\n",
    "        \"menores de 18\": \"Prefiere productos ligeros y naturales. Evita bases pesadas y opta por bálsamos labiales o gloss.\",\n",
    "        \"18-25\": \"Puedes experimentar con colores y estilos variados. Las sombras brillantes y los delineados atrevidos son una buena opción.\",\n",
    "        \"26-35\": \"Prefiere bases hidratantes y utiliza corrector para iluminar las áreas de ojeras. Los tonos nudes son ideales para el día a día.\",\n",
    "        \"36-45\": \"El uso de primer y bases que combatan las líneas de expresión es recomendable. Opta por colores que den luminosidad a tu rostro.\",\n",
    "        \"46-55\": \"El maquillaje mineral y las bases hidratantes serán tus aliados. Considera tonos más naturales y un buen rubor para aportar juventud.\",\n",
    "        \"mayores de 55\": \"Prefiere productos que aporten hidratación y evita polvos que puedan resecar. Los tonos tierra son ideales.\"\n",
    "    }\n",
    "    \n",
    "    links_edad = {\n",
    "        \"menores de 18\": \"https://www.youtube.com/embed/eZH4x6JkuiY\",\n",
    "        \"18-25\": \"https://www.youtube.com/embed/gq4K9QtYXI4\",\n",
    "        \"26-35\": \"https://www.youtube.com/embed/PzOWsk7Yfmo\",\n",
    "        \"36-45\": \"https://www.youtube.com/embed/wPBe0tZhqoA\",\n",
    "        \"46-55\": \"https://www.youtube.com/embed/7R7Hbuwbu94\",\n",
    "        \"mayores de 55\": \"https://www.youtube.com/embed/VhP0yUwB8cc\"\n",
    "    }\n",
    "\n",
    "    # Recomendaciones basadas en el tono de piel\n",
    "    recomendaciones_tono = {\n",
    "        \"Muy claro / pálido\": \"Los tonos rosas y duraznos para labios y mejillas te sentarán muy bien. Evita tonos muy oscuros.\",\n",
    "        \"Claro / caucásico\": \"Los tonos berries y rojos son ideales para labios. Las sombras en tonos dorados resaltan tus ojos.\",\n",
    "        \"Claro-medio / moreno claro\": \"Tonos corales y terracotas son tus aliados. Experimenta con sombras bronce.\",\n",
    "        \"Medio / moreno\": \"Los tonos dorados y bronces acentuarán tu belleza. Los labiales en tono vino son ideales.\",\n",
    "        \"Medio-oscuro / moreno oscuro\": \"Opta por tonos cobrizos y chocolates. Los iluminadores dorados resaltarán tu rostro.\",\n",
    "        \"Oscuro\": \"Los tonos berenjena y oscuros te sentarán de maravilla. Ilumina con tonos champagne.\"\n",
    "    }\n",
    "\n",
    "    # Recomendaciones basadas en la forma de la cara\n",
    "    maquillaje_por_forma_de_cara = {\n",
    "        \"OVALADA\": \"Aplica contorno bajo tus pómulos y ilumina la frente, nariz, mentón y ojeras. Finalmente, aplica rubor en pómulos y arco de cupido.\",\n",
    "        \"ALARGADA\": \"Aplica contorno en la frente, pómulos y mandíbula. Usa bronceador en la parte superior de la frente y difumina bien. Ilumina frente, nariz, mentón, cejas y ojeras.\",\n",
    "        \"CORAZON\": \"Contornea las esquinas de la frente, pómulos y mandíbula. Ilumina la frente, nariz, mentón y ojeras. Finalmente, aplica rubor en pómulos, arco de cupido y nariz.\",\n",
    "        \"REDONDA\": \"Aplica contorno en la sien y cachetes. Ilumina la frente, nariz, mentón y ojeras. Finaliza con rubor en pómulos, arco de cupido y nariz.\",\n",
    "        \"CUADRADA\": \"Contornea la frente, pómulos y mandíbula. Ilumina la frente, nariz, mentón y ojeras. Termina con rubor en pómulos, arco de cupido y nariz.\"\n",
    "    }"
   ]
  },
  {
   "cell_type": "code",
   "execution_count": 4,
   "id": "3cff55aa-836b-47ea-bb72-9aa42b643f10",
   "metadata": {
    "tags": []
   },
   "outputs": [],
   "source": [
    "def obtener_recomendaciones_db(rango_edad, tono_piel, forma_cara, prob, filename=\"recommendations.db\"):\n",
    "    # Connecting to the database\n",
    "    conn = sqlite3.connect(filename)\n",
    "    cursor = conn.cursor()\n",
    "\n",
    "    # Fetching recommendations from the database\n",
    "    cursor.execute('SELECT recomendacion, link FROM edad_recomendaciones WHERE rango=?', (rango_edad,))\n",
    "    recomendacion_edad_data = cursor.fetchone()\n",
    "    recomendacion_edad = f\"Basado en tu edad ({rango_edad}):\\n{recomendacion_edad_data[0]}\\n\\n\"\n",
    "    link = recomendacion_edad_data[1]\n",
    "\n",
    "    cursor.execute('SELECT recomendacion FROM tono_recomendaciones WHERE tono=?', (tono_piel,))\n",
    "    recomendacion_tono_data = cursor.fetchone()\n",
    "    recomendacion_tono = f\"Basado en tu tono de piel ({tono_piel}):\\n{recomendacion_tono_data[0]}\\n\\n\"\n",
    "\n",
    "    cursor.execute('SELECT recomendacion FROM forma_cara_recomendaciones WHERE forma=?', (forma_cara,))\n",
    "    recomendacion_cara_data = cursor.fetchone()\n",
    "    recomendacion_cara = f\"Basado en tu forma de cara ({forma_cara}):\\n{recomendacion_cara_data[0]}\"\n",
    "\n",
    "    # Closing the connection\n",
    "    conn.close()\n",
    "\n",
    "    return recomendacion_edad, recomendacion_tono, recomendacion_cara, link"
   ]
  },
  {
   "cell_type": "code",
   "execution_count": 5,
   "id": "31411998-d419-4f0b-b171-882726e598b3",
   "metadata": {
    "tags": []
   },
   "outputs": [
    {
     "data": {
      "text/plain": [
       "('Basado en tu edad (18-25):\\nPuedes experimentar con colores y estilos variados. Las sombras brillantes y los delineados atrevidos son una buena opción.\\n\\n',\n",
       " 'Basado en tu tono de piel (Muy claro / pálido):\\nLos tonos rosas y duraznos para labios y mejillas te sentarán muy bien. Evita tonos muy oscuros.\\n\\n',\n",
       " 'Basado en tu forma de cara (ALARGADA):\\nAplica contorno en la frente, pómulos y mandíbula. Usa bronceador en la parte superior de la frente y difumina bien. Ilumina frente, nariz, mentón, cejas y ojeras.',\n",
       " 'https://www.youtube.com/embed/gq4K9QtYXI4')"
      ]
     },
     "execution_count": 5,
     "metadata": {},
     "output_type": "execute_result"
    }
   ],
   "source": [
    "obtener_recomendaciones_db(\"18-25\", \"Muy claro / pálido\", \"ALARGADA\", 25.8)"
   ]
  },
  {
   "cell_type": "code",
   "execution_count": null,
   "id": "aa2361cd-f49b-4a47-997e-d2ad7caf7670",
   "metadata": {},
   "outputs": [],
   "source": []
  }
 ],
 "metadata": {
  "kernelspec": {
   "display_name": "Python 3 (ipykernel)",
   "language": "python",
   "name": "python3"
  },
  "language_info": {
   "codemirror_mode": {
    "name": "ipython",
    "version": 3
   },
   "file_extension": ".py",
   "mimetype": "text/x-python",
   "name": "python",
   "nbconvert_exporter": "python",
   "pygments_lexer": "ipython3",
   "version": "3.11.3"
  }
 },
 "nbformat": 4,
 "nbformat_minor": 5
}
